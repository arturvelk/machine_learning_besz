{
 "cells": [
  {
   "cell_type": "markdown",
   "id": "922d6f81",
   "metadata": {},
   "source": [
    "## A rajk nefelejcs dataframe struktúrába helyezése"
   ]
  },
  {
   "cell_type": "code",
   "execution_count": 7,
   "id": "ef826f09",
   "metadata": {},
   "outputs": [],
   "source": [
    "from tqdm.notebook import tqdm\n",
    "import vobject"
   ]
  },
  {
   "cell_type": "code",
   "execution_count": 4,
   "id": "927dded4",
   "metadata": {},
   "outputs": [
    {
     "name": "stdout",
     "output_type": "stream",
     "text": [
      "Summary:  Bibó-műhely megbeszélés\n",
      "Description:  \n",
      "Time (as a datetime object):  2008-09-09 17:00:00+00:00\n",
      "Time (as a string):  2008-09-09 17:00:00+00:00\n"
     ]
    }
   ],
   "source": [
    "# read the data from the file\n",
    "data = open(\"Rajk Nefelejcs_5qtp228v7kai520l4l6ephuj7c@group.calendar.google.com.ics\", encoding = \"utf8\").read()\n",
    "\n",
    "# parse the top-level event with vobject\n",
    "cal = vobject.readOne(data)\n",
    "\n",
    "# Get Summary\n",
    "print('Summary: ', cal.vevent.summary.valueRepr())\n",
    "# Get Description\n",
    "print('Description: ', cal.vevent.description.valueRepr())\n",
    "\n",
    "# Get Time\n",
    "print('Time (as a datetime object): ', cal.vevent.dtstart.value)\n",
    "print('Time (as a string): ', cal.vevent.dtstart.valueRepr())"
   ]
  },
  {
   "cell_type": "code",
   "execution_count": 9,
   "id": "a80348ca",
   "metadata": {},
   "outputs": [
    {
     "data": {
      "application/vnd.jupyter.widget-view+json": {
       "model_id": "8253bd5887c54205b548274d10027e38",
       "version_major": 2,
       "version_minor": 0
      },
      "text/plain": [
       "  0%|          | 0/5425 [00:00<?, ?it/s]"
      ]
     },
     "metadata": {},
     "output_type": "display_data"
    }
   ],
   "source": [
    "import ics\n",
    "import pandas as pd\n",
    "\n",
    "def event_to_dict(event):\n",
    "    return {\n",
    "        \"name\":event.name,\n",
    "        \"begin\" : event.begin.date().strftime('%Y-%m-%d'),\n",
    "        \"end\" : event.end.date().strftime('%Y-%m-%d')\n",
    "    }\n",
    "with open(\"Rajk Nefelejcs_5qtp228v7kai520l4l6ephuj7c@group.calendar.google.com.ics\", encoding = \"utf8\") as f:\n",
    "    icsFile = ics.Calendar(f.read())\n",
    "    events = [event_to_dict(event) for event in tqdm(icsFile.events)]"
   ]
  },
  {
   "cell_type": "code",
   "execution_count": 10,
   "id": "7a24974f",
   "metadata": {},
   "outputs": [],
   "source": [
    "df_calendar = pd.DataFrame(events)"
   ]
  },
  {
   "cell_type": "code",
   "execution_count": 14,
   "id": "c8df693e",
   "metadata": {},
   "outputs": [
    {
     "data": {
      "text/html": [
       "<div>\n",
       "<style scoped>\n",
       "    .dataframe tbody tr th:only-of-type {\n",
       "        vertical-align: middle;\n",
       "    }\n",
       "\n",
       "    .dataframe tbody tr th {\n",
       "        vertical-align: top;\n",
       "    }\n",
       "\n",
       "    .dataframe thead th {\n",
       "        text-align: right;\n",
       "    }\n",
       "</style>\n",
       "<table border=\"1\" class=\"dataframe\">\n",
       "  <thead>\n",
       "    <tr style=\"text-align: right;\">\n",
       "      <th></th>\n",
       "      <th>name</th>\n",
       "      <th>begin</th>\n",
       "      <th>end</th>\n",
       "    </tr>\n",
       "  </thead>\n",
       "  <tbody>\n",
       "    <tr>\n",
       "      <th>0</th>\n",
       "      <td>Választási vita a Rajkban</td>\n",
       "      <td>2010-02-25</td>\n",
       "      <td>2010-02-25</td>\n",
       "    </tr>\n",
       "    <tr>\n",
       "      <th>1</th>\n",
       "      <td>B-DAY</td>\n",
       "      <td>2016-12-11</td>\n",
       "      <td>2016-12-12</td>\n",
       "    </tr>\n",
       "    <tr>\n",
       "      <th>2</th>\n",
       "      <td>Morál filo 0. alkalom</td>\n",
       "      <td>2019-02-05</td>\n",
       "      <td>2019-02-05</td>\n",
       "    </tr>\n",
       "    <tr>\n",
       "      <th>3</th>\n",
       "      <td>SZKTP koordinátori ülés</td>\n",
       "      <td>2019-04-18</td>\n",
       "      <td>2019-04-18</td>\n",
       "    </tr>\n",
       "    <tr>\n",
       "      <th>4</th>\n",
       "      <td>Kollégiumi Gyűlés</td>\n",
       "      <td>2013-12-12</td>\n",
       "      <td>2013-12-12</td>\n",
       "    </tr>\n",
       "    <tr>\n",
       "      <th>...</th>\n",
       "      <td>...</td>\n",
       "      <td>...</td>\n",
       "      <td>...</td>\n",
       "    </tr>\n",
       "    <tr>\n",
       "      <th>5420</th>\n",
       "      <td>Fonó</td>\n",
       "      <td>2018-06-15</td>\n",
       "      <td>2018-06-15</td>\n",
       "    </tr>\n",
       "    <tr>\n",
       "      <th>5421</th>\n",
       "      <td>Közgazdasági eszmetöri 0. alkalom</td>\n",
       "      <td>2021-09-06</td>\n",
       "      <td>2021-09-06</td>\n",
       "    </tr>\n",
       "    <tr>\n",
       "      <th>5422</th>\n",
       "      <td>Udvarbál</td>\n",
       "      <td>2019-04-30</td>\n",
       "      <td>2019-05-01</td>\n",
       "    </tr>\n",
       "    <tr>\n",
       "      <th>5423</th>\n",
       "      <td>Hogyan adjunk jó visszajelzést? workshop</td>\n",
       "      <td>2016-06-23</td>\n",
       "      <td>2016-06-23</td>\n",
       "    </tr>\n",
       "    <tr>\n",
       "      <th>5424</th>\n",
       "      <td>Db ülés</td>\n",
       "      <td>2011-02-07</td>\n",
       "      <td>2011-02-07</td>\n",
       "    </tr>\n",
       "  </tbody>\n",
       "</table>\n",
       "<p>5425 rows × 3 columns</p>\n",
       "</div>"
      ],
      "text/plain": [
       "                                          name       begin         end\n",
       "0                    Választási vita a Rajkban  2010-02-25  2010-02-25\n",
       "1                                        B-DAY  2016-12-11  2016-12-12\n",
       "2                        Morál filo 0. alkalom  2019-02-05  2019-02-05\n",
       "3                      SZKTP koordinátori ülés  2019-04-18  2019-04-18\n",
       "4                            Kollégiumi Gyűlés  2013-12-12  2013-12-12\n",
       "...                                        ...         ...         ...\n",
       "5420                                      Fonó  2018-06-15  2018-06-15\n",
       "5421         Közgazdasági eszmetöri 0. alkalom  2021-09-06  2021-09-06\n",
       "5422                                  Udvarbál  2019-04-30  2019-05-01\n",
       "5423  Hogyan adjunk jó visszajelzést? workshop  2016-06-23  2016-06-23\n",
       "5424                                   Db ülés  2011-02-07  2011-02-07\n",
       "\n",
       "[5425 rows x 3 columns]"
      ]
     },
     "execution_count": 14,
     "metadata": {},
     "output_type": "execute_result"
    }
   ],
   "source": [
    "df_calendar"
   ]
  },
  {
   "cell_type": "code",
   "execution_count": 16,
   "id": "e4554f58",
   "metadata": {},
   "outputs": [],
   "source": [
    "events = pd.concat([df_calendar.loc[:,[\"name\",\"end\"]].rename(columns = {\"end\":\"begin\"}),df_calendar.loc[:,[\"name\",\"begin\"]]]).drop_duplicates()"
   ]
  },
  {
   "cell_type": "code",
   "execution_count": 18,
   "id": "fbd8f54b",
   "metadata": {},
   "outputs": [
    {
     "data": {
      "text/html": [
       "<div>\n",
       "<style scoped>\n",
       "    .dataframe tbody tr th:only-of-type {\n",
       "        vertical-align: middle;\n",
       "    }\n",
       "\n",
       "    .dataframe tbody tr th {\n",
       "        vertical-align: top;\n",
       "    }\n",
       "\n",
       "    .dataframe thead th {\n",
       "        text-align: right;\n",
       "    }\n",
       "</style>\n",
       "<table border=\"1\" class=\"dataframe\">\n",
       "  <thead>\n",
       "    <tr style=\"text-align: right;\">\n",
       "      <th></th>\n",
       "      <th>name</th>\n",
       "      <th>begin</th>\n",
       "    </tr>\n",
       "  </thead>\n",
       "  <tbody>\n",
       "    <tr>\n",
       "      <th>3529</th>\n",
       "      <td>Elsős szakami verseny konz</td>\n",
       "      <td>2007-03-05</td>\n",
       "    </tr>\n",
       "    <tr>\n",
       "      <th>1723</th>\n",
       "      <td>Db</td>\n",
       "      <td>2007-03-05</td>\n",
       "    </tr>\n",
       "    <tr>\n",
       "      <th>3844</th>\n",
       "      <td>Kombi gyűlés</td>\n",
       "      <td>2007-03-07</td>\n",
       "    </tr>\n",
       "    <tr>\n",
       "      <th>536</th>\n",
       "      <td>Zerge klub</td>\n",
       "      <td>2007-03-08</td>\n",
       "    </tr>\n",
       "    <tr>\n",
       "      <th>4551</th>\n",
       "      <td>Belépés nélkül</td>\n",
       "      <td>2007-03-12</td>\n",
       "    </tr>\n",
       "    <tr>\n",
       "      <th>...</th>\n",
       "      <td>...</td>\n",
       "      <td>...</td>\n",
       "    </tr>\n",
       "    <tr>\n",
       "      <th>589</th>\n",
       "      <td>Evezés</td>\n",
       "      <td>2022-08-21</td>\n",
       "    </tr>\n",
       "    <tr>\n",
       "      <th>3026</th>\n",
       "      <td>Corvinus a Top 200 Egyetem között a világon</td>\n",
       "      <td>2030-01-01</td>\n",
       "    </tr>\n",
       "    <tr>\n",
       "      <th>3026</th>\n",
       "      <td>Corvinus a Top 200 Egyetem között a világon</td>\n",
       "      <td>2030-01-02</td>\n",
       "    </tr>\n",
       "    <tr>\n",
       "      <th>391</th>\n",
       "      <td>Időkapszula kibontás</td>\n",
       "      <td>2060-11-10</td>\n",
       "    </tr>\n",
       "    <tr>\n",
       "      <th>391</th>\n",
       "      <td>Időkapszula kibontás</td>\n",
       "      <td>2060-11-11</td>\n",
       "    </tr>\n",
       "  </tbody>\n",
       "</table>\n",
       "<p>6407 rows × 2 columns</p>\n",
       "</div>"
      ],
      "text/plain": [
       "                                             name       begin\n",
       "3529                   Elsős szakami verseny konz  2007-03-05\n",
       "1723                                           Db  2007-03-05\n",
       "3844                                 Kombi gyűlés  2007-03-07\n",
       "536                                    Zerge klub  2007-03-08\n",
       "4551                               Belépés nélkül  2007-03-12\n",
       "...                                           ...         ...\n",
       "589                                        Evezés  2022-08-21\n",
       "3026  Corvinus a Top 200 Egyetem között a világon  2030-01-01\n",
       "3026  Corvinus a Top 200 Egyetem között a világon  2030-01-02\n",
       "391                          Időkapszula kibontás  2060-11-10\n",
       "391                          Időkapszula kibontás  2060-11-11\n",
       "\n",
       "[6407 rows x 2 columns]"
      ]
     },
     "execution_count": 18,
     "metadata": {},
     "output_type": "execute_result"
    }
   ],
   "source": [
    "events.sort_values(\"begin\")"
   ]
  },
  {
   "cell_type": "code",
   "execution_count": 19,
   "id": "87450fc3",
   "metadata": {},
   "outputs": [],
   "source": [
    "events.to_parquet(\"events.parquet\")"
   ]
  },
  {
   "cell_type": "code",
   "execution_count": null,
   "id": "e9d4e1f6",
   "metadata": {},
   "outputs": [],
   "source": []
  }
 ],
 "metadata": {
  "kernelspec": {
   "display_name": "Python 3 (ipykernel)",
   "language": "python",
   "name": "python3"
  },
  "language_info": {
   "codemirror_mode": {
    "name": "ipython",
    "version": 3
   },
   "file_extension": ".py",
   "mimetype": "text/x-python",
   "name": "python",
   "nbconvert_exporter": "python",
   "pygments_lexer": "ipython3",
   "version": "3.10.4"
  }
 },
 "nbformat": 4,
 "nbformat_minor": 5
}
