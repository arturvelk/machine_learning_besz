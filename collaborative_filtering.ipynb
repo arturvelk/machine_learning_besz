{
 "cells": [
  {
   "cell_type": "markdown",
   "id": "abdafd44",
   "metadata": {},
   "source": [
    "## Collaborative Filtering\n",
    "\n",
    "### Ebben a notebookban csináltam meg a collaborative filteringet a kocsma adatokra, kollégistákra\n",
    "\n",
    "* Collaborative filteringgel hoztam létre minden egyénről minden termékre egy becsült ratinget.\n",
    "* Ahhoz hogy ezt megcsinálhassam, a korábbi fogyasztási adataik mentén létrehoztam egy értékelési rendszert, ami azt képezi le, hogy a több fogyasztás egy magasabb értékeléssel egyenértékű.\n",
    "* 1-3 as skálán\n",
    "* 0-ás értékelést kap a termék amely a teljes fogyasztásod 1%-át sem teszi ki\n",
    "* 1-est amely termék 1% és 5% között van\n",
    "* 2-asd amely termék 5% és 10% között van\n",
    "* 3-ast az a termék amely a teljes fogyasztás 10%-ánál többet teszi ki egy egyénnek.\n",
    "\n",
    "### Ezen értékelési rendszer mentén csináltam meg a collaborative filteringet, amely a még nem fogyasztott (vagyis 0-ás értékelésű termékek közül ajánl a kollégistának termékeket.\n",
    "* ezt az értékelés becslést használtam fel a későbbiekben arra hogy megbecsüljem hogy melyik termékeket fogyasztja a kollégista egy adott specifikumokkal rendelkező napon (lásd, multilabel.ipynb)\n",
    "\n",
    "### A notebook a következőképpen épül fel\n",
    "* további adat baszkurálás\n",
    "* rating system kialakítása\n",
    "* collaborative filtering és játszás - nem találtam megfelelő eszközt ennek a kiértékelésére, viszont az a gondolatom, hogy nem is lehet kiértékelni, csak ha iteratívan a való életben figyeljük a működését. (ehhez, elhintettem sok embernek hogy mit mond a számító mit kéne fogyasztaniuk, mindenképpen megfogom őket kérdezni hogy megtették-e és hogy bevált-e)\n",
    "* Ezek után pedig minden egyénről kiszedtem az összes értékelést amit a collaborative filtering becsült."
   ]
  },
  {
   "cell_type": "code",
   "execution_count": 1,
   "id": "4185e951",
   "metadata": {},
   "outputs": [],
   "source": [
    "import numpy as np\n",
    "import pandas as pd\n",
    "import random\n",
    "from tqdm.notebook import tqdm\n",
    "import tensorflow as tf\n",
    "from tensorflow import keras\n",
    "from tensorflow.keras import layers\n",
    "from pathlib import Path\n",
    "import matplotlib.pyplot as plt"
   ]
  },
  {
   "cell_type": "code",
   "execution_count": 65,
   "id": "2ef27d91",
   "metadata": {},
   "outputs": [],
   "source": [
    "pd.options.display.float_format = '{:.2f}'.format"
   ]
  },
  {
   "cell_type": "code",
   "execution_count": 66,
   "id": "739457cd",
   "metadata": {},
   "outputs": [],
   "source": [
    "data = pd.read_parquet(\"kesz_ml_data.parquet\") #soo not kész"
   ]
  },
  {
   "cell_type": "code",
   "execution_count": 67,
   "id": "60b7ee13",
   "metadata": {},
   "outputs": [],
   "source": [
    "termek_list = (\n",
    "    data.groupby(\"termek\")\n",
    "    .agg({\"Mennyiség\": \"sum\"})\n",
    "    .reset_index()\n",
    "    .loc[lambda _df: _df[\"Mennyiség\"] > 20][\"termek\"]\n",
    "    .to_list()\n",
    ")"
   ]
  },
  {
   "cell_type": "code",
   "execution_count": 68,
   "id": "c83d96a7",
   "metadata": {},
   "outputs": [],
   "source": [
    "data = data.loc[lambda _df: _df[\"termek\"].isin(termek_list)]"
   ]
  },
  {
   "cell_type": "code",
   "execution_count": 69,
   "id": "8767b531",
   "metadata": {},
   "outputs": [],
   "source": [
    "termek_teljes_list = [\n",
    "    \"nagy royal (4cl)\",\n",
    "    \"nagy uncsi (4cl)\",\n",
    "    \"coca-cola (dl)\",\n",
    "    \"chianti (dl)\",\n",
    "    \"löwenbrau\",\n",
    "    \"nagy barista (4cl)\",\n",
    "    \"tonik (dl)\",\n",
    "    \"kis uncsi (2cl)\",\n",
    "    \"soproni búza\",\n",
    "    \"encsó\",\n",
    "    \"kis zubrowka (2cl)\",\n",
    "    \"nagy zubrowka (4cl)\",\n",
    "    \"soproni\",\n",
    "    \"snickers\",\n",
    "    \"arany fácán\",\n",
    "    \"lays\",\n",
    "    \"fuzetea (dl)\",\n",
    "    \"nagy tubi (4cl)\",\n",
    "    \"soproni meggy\",\n",
    "    \"kőbányai\",\n",
    "    \"lovassy fehér (dl)\",\n",
    "    \"powerade\",\n",
    "    \"dreher\",\n",
    "    \"sportszelet\",\n",
    "    \"soproni ipa\",\n",
    "    \"ropi\",\n",
    "    \"gösser natur zitrone\",\n",
    "    \"nagy gordon's gin (4cl)\",\n",
    "    \"kronenbourg blanc\",\n",
    "    \"baileys (4cl)\",\n",
    "    \"kis gordon's gin (2cl)\",\n",
    "    \"lovassy vörös (dl)\",\n",
    "    \"el jimador (4cl)\",\n",
    "    \"staropramen\",\n",
    "    \"sós mogyoró (85g)\",\n",
    "    \"borsodi hoppy\",\n",
    "    \"montmeyrac (dl)\",\n",
    "    \"soproni hoplager\",\n",
    "    \"frittmann-duett (dl)\",\n",
    "    \"kis barista (2cl)\",\n",
    "    \"pizza szelet\",\n",
    "    \"sprite (dl)\",\n",
    "    \"kinder bueno\",\n",
    "    \"stolichnaya (4cl)\",\n",
    "    \"fanta\",\n",
    "    \"candy carnival 150g\",\n",
    "    \"juhász rozé (dl)\",\n",
    "    \"kitkat\",\n",
    "    \"candy carnival 100g\",\n",
    "    \"twix\",\n",
    "    \"3bit\",\n",
    "    \"balaton bumm\",\n",
    "    \"maoam (1 5db-os pici csomag)\",\n",
    "    \"milky way\",\n",
    "    \"wafelini\",\n",
    "    \"malibu 4cl\",\n",
    "    \"sió alma (dl)\",\n",
    "    \"cappy multivitamin (dl)\",\n",
    "    \"balaton szelet\",\n",
    "    \"irsai olivér (dl)\",\n",
    "    \"cappy feketeribizli (dl)\",\n",
    "    \"hochwald eiskaffee\",\n",
    "    \"desperados mojito\",\n",
    "    \"szeleshát borháló\",\n",
    "    \"desperados\",\n",
    "    \"mátrai olaszrizling borháló\",\n",
    "    \"szekszárdi prelude cuve (dl)\",\n",
    "    \"russian standard (4cl)\",\n",
    "    \"fanta bodza (dl)\",\n",
    "    \"sauvignon blanc borháló\",\n",
    "    \"krusovice barna\",\n",
    "    \"mars\",\n",
    "    \"nestea\",\n",
    "    \"happy day (dl)\",\n",
    "    \"borháló irsai\",\n",
    "    \"beefeater (4cl)\",\n",
    "    \"casino rum (4cl)\",\n",
    "    \"ponte pizza pizza szelet\",\n",
    "    \"apenta\",\n",
    "    \"gordons pink gin (4cl)\",\n",
    "    \"bounty\",\n",
    "    \"borháló kékfrankos (dl)\",\n",
    "    \"borháló olaszrizling (dl)\",\n",
    "    \"club mate\",\n",
    "    \"tesco nagy csipsz 130g\",\n",
    "    \"tesco kis csipsz 77g\",\n",
    "]"
   ]
  },
  {
   "cell_type": "code",
   "execution_count": 70,
   "id": "3b3cf4ce",
   "metadata": {},
   "outputs": [],
   "source": [
    "data = data.loc[lambda _df: _df[\"termek\"].isin(termek_teljes_list)]"
   ]
  },
  {
   "cell_type": "code",
   "execution_count": 71,
   "id": "8f5b3758",
   "metadata": {},
   "outputs": [],
   "source": [
    "termek_replace = {\n",
    "    \"nagy royal (4cl)\" : \"royal\",\n",
    "    \"nagy uncsi (4cl)\" : \"uncsi\",\n",
    "    \"nagy barista (4cl)\" : \"barista\",\n",
    "    \"kis uncsi (2cl)\" : \"uncsi\",\n",
    "    \"kis zubrowka (2cl)\" : \"zubrowka\",\n",
    "    \"nagy zubrowka (4cl)\" : \"zubrowka\",\n",
    "    \"nagy tubi (4cl)\" : \"tubi\",\n",
    "    \"nagy gordon's gin (4cl)\" : \"gordons\",\n",
    "    \"el jimador (4cl)\" : \"el jimador\",\n",
    "    \"kis barista (2cl)\" : \"barista\",\n",
    "    \"stolichnaya (4cl)\" : \"stolichnaya\",\n",
    "    \"candy carnival 150g\" : \"candy carnival\",\n",
    "    \"candy carnival 100g\" : \"candy carnival\",\n",
    "    \"malibu 4cl\" : \"malibu\",\n",
    "    \"russian standard (4cl)\" : \"russian standard\",\n",
    "    \"russian standard (2cl)\" : \"russian standard\",\n",
    "    \"beefeater (4cl)\" : \"beefeater\",\n",
    "    \"casino rum (4cl)\" : \"casuino rum\",\n",
    "    \"gordons pink gin (4cl)\" : \"gordons\",\n",
    "    \"kis gordon's gin (2cl)\" : \"gordons\",\n",
    "    \"pizza szelet\" : \"pizza\",\n",
    "    \"ponte pizza pizza szelet\" : \"pizza\"\n",
    "}"
   ]
  },
  {
   "cell_type": "code",
   "execution_count": 72,
   "id": "0a219dc2",
   "metadata": {},
   "outputs": [],
   "source": [
    "borok = [\n",
    "    \"lovassy fehér (dl)\",\n",
    "    \"lovassy vörös (dl)\",\n",
    "    \"frittmann-duett (dl)\",\n",
    "    \"juhász rozé (dl)\",\n",
    "    \"irsai olivér (dl)\",\n",
    "    \"szekszárdi prelude cuve (dl)\",\n",
    "    \"sauvignon blanc borháló\",\n",
    "    \"borháló kékfrankos (dl)\",\n",
    "    \"borháló olaszrizling (dl)\",\n",
    "    \"chianti (dl)\",\n",
    "    \"montmeyrac (dl)\",\n",
    "]\n",
    "\n",
    "üdcsik = [\n",
    "    \"tonik (dl)\",\n",
    "    \"fuzetea (dl)\",\n",
    "    \"sprite (dl)\",\n",
    "    \"fanta\",\n",
    "    \"sió alma (dl)\",\n",
    "    \"cappy feketeribizli (dl)\",\n",
    "    \"fanta bodza (dl)\",\n",
    "    \"nestea\",\n",
    "    \"happy day (dl)\",\n",
    "    \"apenta\",\n",
    "]\n",
    "kisfelesek = [\n",
    "    \"kis uncsi (2cl)\",\n",
    "    \"kis zubrowka (2cl)\",\n",
    "    \"kis barista (2cl)\",\n",
    "    \"russian standard (2cl)\",\n",
    "]"
   ]
  },
  {
   "cell_type": "code",
   "execution_count": 73,
   "id": "4bb23b19",
   "metadata": {},
   "outputs": [],
   "source": [
    "# Egy egységre hozása az üdcsiknek, kisfeleseknek, boroknak\n",
    "data.loc[lambda _df: _df[\"termek\"].isin(kisfelesek), \"Mennyiség\"] = data[\"Mennyiség\"]*0.5\n",
    "data.loc[lambda _df: _df[\"termek\"].isin(üdcsik), \"Mennyiség\"] = data[\"Mennyiség\"]*0.20\n",
    "data.loc[lambda _df: _df[\"termek\"].isin(borok), \"Mennyiség\"] = data[\"Mennyiség\"]*0.5"
   ]
  },
  {
   "cell_type": "code",
   "execution_count": 74,
   "id": "c16af299",
   "metadata": {},
   "outputs": [],
   "source": [
    "data[\"termek\"] = data[\"termek\"].replace(termek_replace)"
   ]
  },
  {
   "cell_type": "code",
   "execution_count": 75,
   "id": "e689e833",
   "metadata": {},
   "outputs": [
    {
     "data": {
      "text/html": [
       "<div>\n",
       "<style scoped>\n",
       "    .dataframe tbody tr th:only-of-type {\n",
       "        vertical-align: middle;\n",
       "    }\n",
       "\n",
       "    .dataframe tbody tr th {\n",
       "        vertical-align: top;\n",
       "    }\n",
       "\n",
       "    .dataframe thead th {\n",
       "        text-align: right;\n",
       "    }\n",
       "</style>\n",
       "<table border=\"1\" class=\"dataframe\">\n",
       "  <thead>\n",
       "    <tr style=\"text-align: right;\">\n",
       "      <th></th>\n",
       "      <th>Név</th>\n",
       "      <th>User_ID</th>\n",
       "    </tr>\n",
       "  </thead>\n",
       "  <tbody>\n",
       "    <tr>\n",
       "      <th>0</th>\n",
       "      <td>Barát Andor Kornél</td>\n",
       "      <td>1</td>\n",
       "    </tr>\n",
       "    <tr>\n",
       "      <th>1</th>\n",
       "      <td>Bíró Marcell</td>\n",
       "      <td>2</td>\n",
       "    </tr>\n",
       "    <tr>\n",
       "      <th>2</th>\n",
       "      <td>Herbák Mihály</td>\n",
       "      <td>3</td>\n",
       "    </tr>\n",
       "    <tr>\n",
       "      <th>3</th>\n",
       "      <td>Kinál Dániel</td>\n",
       "      <td>4</td>\n",
       "    </tr>\n",
       "    <tr>\n",
       "      <th>4</th>\n",
       "      <td>Lentner Balázs</td>\n",
       "      <td>5</td>\n",
       "    </tr>\n",
       "  </tbody>\n",
       "</table>\n",
       "</div>"
      ],
      "text/plain": [
       "                  Név  User_ID\n",
       "0  Barát Andor Kornél        1\n",
       "1        Bíró Marcell        2\n",
       "2       Herbák Mihály        3\n",
       "3        Kinál Dániel        4\n",
       "4      Lentner Balázs        5"
      ]
     },
     "execution_count": 75,
     "metadata": {},
     "output_type": "execute_result"
    }
   ],
   "source": [
    "név_id = pd.DataFrame(\n",
    "    {\n",
    "        \"Név\": list(data[\"Név\"].unique()),\n",
    "        \"User_ID\": range(1, len(data[\"Név\"].unique()) + 1),\n",
    "    }\n",
    ")\n",
    "név_id.head()"
   ]
  },
  {
   "cell_type": "code",
   "execution_count": 76,
   "id": "70a1f372",
   "metadata": {},
   "outputs": [
    {
     "data": {
      "text/html": [
       "<div>\n",
       "<style scoped>\n",
       "    .dataframe tbody tr th:only-of-type {\n",
       "        vertical-align: middle;\n",
       "    }\n",
       "\n",
       "    .dataframe tbody tr th {\n",
       "        vertical-align: top;\n",
       "    }\n",
       "\n",
       "    .dataframe thead th {\n",
       "        text-align: right;\n",
       "    }\n",
       "</style>\n",
       "<table border=\"1\" class=\"dataframe\">\n",
       "  <thead>\n",
       "    <tr style=\"text-align: right;\">\n",
       "      <th></th>\n",
       "      <th>termek</th>\n",
       "      <th>Prod_ID</th>\n",
       "    </tr>\n",
       "  </thead>\n",
       "  <tbody>\n",
       "    <tr>\n",
       "      <th>0</th>\n",
       "      <td>royal</td>\n",
       "      <td>1</td>\n",
       "    </tr>\n",
       "    <tr>\n",
       "      <th>1</th>\n",
       "      <td>uncsi</td>\n",
       "      <td>2</td>\n",
       "    </tr>\n",
       "    <tr>\n",
       "      <th>2</th>\n",
       "      <td>coca-cola (dl)</td>\n",
       "      <td>3</td>\n",
       "    </tr>\n",
       "    <tr>\n",
       "      <th>3</th>\n",
       "      <td>chianti (dl)</td>\n",
       "      <td>4</td>\n",
       "    </tr>\n",
       "    <tr>\n",
       "      <th>4</th>\n",
       "      <td>löwenbrau</td>\n",
       "      <td>5</td>\n",
       "    </tr>\n",
       "  </tbody>\n",
       "</table>\n",
       "</div>"
      ],
      "text/plain": [
       "           termek  Prod_ID\n",
       "0           royal        1\n",
       "1           uncsi        2\n",
       "2  coca-cola (dl)        3\n",
       "3    chianti (dl)        4\n",
       "4       löwenbrau        5"
      ]
     },
     "execution_count": 76,
     "metadata": {},
     "output_type": "execute_result"
    }
   ],
   "source": [
    "termek_id = pd.DataFrame(\n",
    "    {\n",
    "        \"termek\": list(data[\"termek\"].unique()),\n",
    "        \"Prod_ID\": range(1, len(data[\"termek\"].unique()) + 1),\n",
    "    }\n",
    ")\n",
    "termek_id.head()"
   ]
  },
  {
   "cell_type": "code",
   "execution_count": 77,
   "id": "f79422a4",
   "metadata": {},
   "outputs": [],
   "source": [
    "data = data.merge(név_id,\n",
    "    on=\"Név\",\n",
    "    how=\"left\",\n",
    ")\n",
    "data = data.merge(termek_id,\n",
    "    on=\"termek\",\n",
    "    how = \"left\"\n",
    ")"
   ]
  },
  {
   "cell_type": "code",
   "execution_count": 78,
   "id": "8ca2e582",
   "metadata": {},
   "outputs": [],
   "source": [
    "top_termek = (\n",
    "    data.groupby(\"termek\")\n",
    "    .agg({\"Mennyiség\": \"sum\"})\n",
    "    .reset_index()\n",
    "    .sort_values(by=\"Mennyiség\", ascending=False)\n",
    "    .head(10)[\"termek\"]\n",
    "    .to_list()\n",
    ")\n",
    "top_user = (\n",
    "    data.groupby(\"Név\")\n",
    "    .agg({\"Mennyiség\": \"sum\"})\n",
    "    .reset_index()\n",
    "    .sort_values(by=\"Mennyiség\", ascending=False)\n",
    "    .head(10)[\"Név\"]\n",
    "    .to_list()\n",
    ")\n",
    "\n",
    "top_termek2 = (\n",
    "    data.groupby(\"termek\")\n",
    "    .agg({\"Mennyiség\": \"sum\"})\n",
    "    .reset_index()\n",
    "    .sort_values(by=\"Mennyiség\", ascending=False)\n",
    "    .head(40)[\"termek\"]\n",
    "    .to_list()\n",
    ")\n",
    "top_user2 = (\n",
    "    data.groupby(\"Név\")\n",
    "    .agg({\"Mennyiség\": \"sum\"})\n",
    "    .reset_index()\n",
    "    .sort_values(by=\"Mennyiség\", ascending=False)\n",
    "    .head(40)[\"Név\"]\n",
    "    .to_list()\n",
    ")"
   ]
  },
  {
   "cell_type": "markdown",
   "id": "9aefca9c",
   "metadata": {},
   "source": [
    "## Eddig adat előkészítés, top10 termék top10 fogyasztó"
   ]
  },
  {
   "cell_type": "markdown",
   "id": "79582f91",
   "metadata": {},
   "source": [
    "## Egyenlőre ott maradok, hogy csak egy terméket prediktálok, aztán gondolkdom rajta"
   ]
  },
  {
   "cell_type": "code",
   "execution_count": 79,
   "id": "2c6567bd",
   "metadata": {},
   "outputs": [],
   "source": [
    "data = data.merge(\n",
    "    data.groupby(\"User_ID\")\n",
    "    .agg({\"Mennyiség\": \"sum\"})\n",
    "    .reset_index()\n",
    "    .rename(columns={\"Mennyiség\": \"Teljes_fogy\"}),\n",
    "    on=\"User_ID\",\n",
    "    how=\"left\",\n",
    ")"
   ]
  },
  {
   "cell_type": "code",
   "execution_count": 80,
   "id": "cf1b1d72",
   "metadata": {},
   "outputs": [],
   "source": [
    "#Ez a rating system fog működni, ami a fogyasztott mennyiséget egy 1-3 as skálára helyezi\n",
    "data = data.merge(\n",
    "    data.groupby([\"User_ID\", \"Prod_ID\"])\n",
    "    .agg({\"Mennyiség\": \"sum\", \"Teljes_fogy\": \"first\"})\n",
    "    .reset_index()\n",
    "    .assign(\n",
    "        fogy_rate=lambda _df: _df[\"Mennyiség\"] / _df[\"Teljes_fogy\"],\n",
    "        rating=lambda _df: np.where(\n",
    "            _df[\"fogy_rate\"] > 0.1,\n",
    "            3,\n",
    "            np.where(\n",
    "                _df[\"fogy_rate\"] > 0.05,\n",
    "                2,\n",
    "                np.where(_df[\"fogy_rate\"] > 0.01, 1, 0),\n",
    "            ),\n",
    "        ),\n",
    "    )\n",
    "    .loc[:, [\"User_ID\", \"Prod_ID\", \"rating\"]],\n",
    "    on=[\"User_ID\", \"Prod_ID\"],\n",
    "    how=\"left\",\n",
    ")"
   ]
  },
  {
   "cell_type": "code",
   "execution_count": 81,
   "id": "91132419",
   "metadata": {},
   "outputs": [
    {
     "data": {
      "text/plain": [
       "count     79.00\n",
       "mean     200.25\n",
       "std      386.03\n",
       "min        4.10\n",
       "25%       42.31\n",
       "50%       75.00\n",
       "75%      198.25\n",
       "max     2957.24\n",
       "Name: Mennyiség, dtype: float64"
      ]
     },
     "execution_count": 81,
     "metadata": {},
     "output_type": "execute_result"
    }
   ],
   "source": [
    "data.groupby([\"termek\"]).agg(\n",
    "    {\"Mennyiség\": \"sum\", \"rating\": \"first\", \"Teljes_fogy\": \"first\"}\n",
    ").reset_index().sort_values(by = \"Mennyiség\", ascending = False)[\"Mennyiség\"].describe()"
   ]
  },
  {
   "cell_type": "code",
   "execution_count": 84,
   "id": "362af0fb",
   "metadata": {},
   "outputs": [
    {
     "name": "stdout",
     "output_type": "stream",
     "text": [
      "Number of users: 77, Number of Movies: 79, Min rating: 0.0, Max rating: 3.0\n"
     ]
    }
   ],
   "source": [
    "user_ids = data[\"User_ID\"].unique().tolist()\n",
    "user2user_encoded = {x: i for i, x in enumerate(user_ids)}\n",
    "userencoded2user = {i: x for i, x in enumerate(user_ids)}\n",
    "movie_ids = data[\"Prod_ID\"].unique().tolist()\n",
    "movie2movie_encoded = {x: i for i, x in enumerate(movie_ids)}\n",
    "movie_encoded2movie = {i: x for i, x in enumerate(movie_ids)}\n",
    "\n",
    "data[\"user\"] = data[\"User_ID\"].map(user2user_encoded)\n",
    "data[\"product\"] = data[\"Prod_ID\"].map(movie2movie_encoded)\n",
    "\n",
    "num_users = len(user2user_encoded)\n",
    "num_movies = len(movie_encoded2movie)\n",
    "\n",
    "data[\"rating\"] = data[\"rating\"].values.astype(np.float32)\n",
    "# min and max ratings will be used to normalize the ratings later\n",
    "min_rating = min(data[\"rating\"])\n",
    "max_rating = max(data[\"rating\"])\n",
    "\n",
    "print(\n",
    "    \"Number of users: {}, Number of Movies: {}, Min rating: {}, Max rating: {}\".format(\n",
    "        num_users, num_movies, min_rating, max_rating\n",
    "    )\n",
    ")"
   ]
  },
  {
   "cell_type": "code",
   "execution_count": 85,
   "id": "b9672453",
   "metadata": {},
   "outputs": [],
   "source": [
    "\n",
    "szukebb_data_train = (\n",
    "    data.loc[lambda _df: _df[\"date\"] < \"2021-12-16\"]\n",
    "    .loc[lambda _df: _df[\"termek\"].isin(top_termek2)]\n",
    "    .loc[lambda _df: _df[\"Név\"].isin(top_user2)]\n",
    ")\n",
    "\n",
    "szukebb_data_test = (\n",
    "    data.loc[lambda _df: _df[\"date\"] > \"2021-12-15\"]\n",
    "    .loc[lambda _df: _df[\"date\"] < \"2022-04-16\"]\n",
    "    .loc[lambda _df: _df[\"termek\"].isin(top_termek2)]\n",
    "    .loc[lambda _df: _df[\"Név\"].isin(top_user2)]\n",
    ")"
   ]
  },
  {
   "cell_type": "code",
   "execution_count": null,
   "id": "fcd6a780",
   "metadata": {},
   "outputs": [],
   "source": []
  },
  {
   "cell_type": "code",
   "execution_count": 86,
   "id": "b39ce4f1",
   "metadata": {},
   "outputs": [],
   "source": [
    "szukebb_data_train = szukebb_data_train.loc[:, [\"User_ID\", \"Prod_ID\", \"rating\"]]\n",
    "szukebb_data_test = szukebb_data_test.loc[:, [\"User_ID\", \"Prod_ID\", \"rating\"]]"
   ]
  },
  {
   "cell_type": "code",
   "execution_count": 87,
   "id": "4947943c",
   "metadata": {},
   "outputs": [
    {
     "data": {
      "text/html": [
       "<div>\n",
       "<style scoped>\n",
       "    .dataframe tbody tr th:only-of-type {\n",
       "        vertical-align: middle;\n",
       "    }\n",
       "\n",
       "    .dataframe tbody tr th {\n",
       "        vertical-align: top;\n",
       "    }\n",
       "\n",
       "    .dataframe thead th {\n",
       "        text-align: right;\n",
       "    }\n",
       "</style>\n",
       "<table border=\"1\" class=\"dataframe\">\n",
       "  <thead>\n",
       "    <tr style=\"text-align: right;\">\n",
       "      <th></th>\n",
       "      <th>User_ID</th>\n",
       "      <th>Prod_ID</th>\n",
       "      <th>rating</th>\n",
       "    </tr>\n",
       "  </thead>\n",
       "  <tbody>\n",
       "    <tr>\n",
       "      <th>1</th>\n",
       "      <td>1</td>\n",
       "      <td>2</td>\n",
       "      <td>0.00</td>\n",
       "    </tr>\n",
       "    <tr>\n",
       "      <th>5</th>\n",
       "      <td>3</td>\n",
       "      <td>5</td>\n",
       "      <td>0.00</td>\n",
       "    </tr>\n",
       "    <tr>\n",
       "      <th>6</th>\n",
       "      <td>3</td>\n",
       "      <td>6</td>\n",
       "      <td>0.00</td>\n",
       "    </tr>\n",
       "    <tr>\n",
       "      <th>8</th>\n",
       "      <td>3</td>\n",
       "      <td>2</td>\n",
       "      <td>0.00</td>\n",
       "    </tr>\n",
       "    <tr>\n",
       "      <th>9</th>\n",
       "      <td>3</td>\n",
       "      <td>7</td>\n",
       "      <td>0.00</td>\n",
       "    </tr>\n",
       "    <tr>\n",
       "      <th>...</th>\n",
       "      <td>...</td>\n",
       "      <td>...</td>\n",
       "      <td>...</td>\n",
       "    </tr>\n",
       "    <tr>\n",
       "      <th>15055</th>\n",
       "      <td>47</td>\n",
       "      <td>58</td>\n",
       "      <td>0.00</td>\n",
       "    </tr>\n",
       "    <tr>\n",
       "      <th>15057</th>\n",
       "      <td>47</td>\n",
       "      <td>61</td>\n",
       "      <td>0.00</td>\n",
       "    </tr>\n",
       "    <tr>\n",
       "      <th>15062</th>\n",
       "      <td>47</td>\n",
       "      <td>64</td>\n",
       "      <td>0.00</td>\n",
       "    </tr>\n",
       "    <tr>\n",
       "      <th>15065</th>\n",
       "      <td>47</td>\n",
       "      <td>67</td>\n",
       "      <td>0.00</td>\n",
       "    </tr>\n",
       "    <tr>\n",
       "      <th>15068</th>\n",
       "      <td>47</td>\n",
       "      <td>70</td>\n",
       "      <td>0.00</td>\n",
       "    </tr>\n",
       "  </tbody>\n",
       "</table>\n",
       "<p>1600 rows × 3 columns</p>\n",
       "</div>"
      ],
      "text/plain": [
       "       User_ID  Prod_ID  rating\n",
       "1            1        2    0.00\n",
       "5            3        5    0.00\n",
       "6            3        6    0.00\n",
       "8            3        2    0.00\n",
       "9            3        7    0.00\n",
       "...        ...      ...     ...\n",
       "15055       47       58    0.00\n",
       "15057       47       61    0.00\n",
       "15062       47       64    0.00\n",
       "15065       47       67    0.00\n",
       "15068       47       70    0.00\n",
       "\n",
       "[1600 rows x 3 columns]"
      ]
     },
     "execution_count": 87,
     "metadata": {},
     "output_type": "execute_result"
    }
   ],
   "source": [
    "szukebb_data_train.drop_duplicates()"
   ]
  },
  {
   "cell_type": "code",
   "execution_count": 88,
   "id": "97034297",
   "metadata": {},
   "outputs": [],
   "source": [
    "EMBEDDING_SIZE = 40\n",
    "\n",
    "\n",
    "class RecommenderNet(keras.Model):\n",
    "    def __init__(self, num_users, num_movies, embedding_size, **kwargs):\n",
    "        super(RecommenderNet, self).__init__(**kwargs)\n",
    "        self.num_users = num_users\n",
    "        self.num_movies = num_movies\n",
    "        self.embedding_size = embedding_size\n",
    "        self.user_embedding = layers.Embedding(\n",
    "            num_users,\n",
    "            embedding_size,\n",
    "            embeddings_initializer=\"he_normal\",\n",
    "            embeddings_regularizer=keras.regularizers.l2(1e-6),\n",
    "        )\n",
    "        self.user_bias = layers.Embedding(num_users, 1)\n",
    "        self.movie_embedding = layers.Embedding(\n",
    "            num_movies,\n",
    "            embedding_size,\n",
    "            embeddings_initializer=\"he_normal\",\n",
    "            embeddings_regularizer=keras.regularizers.l2(1e-6),\n",
    "        )\n",
    "        self.movie_bias = layers.Embedding(num_movies, 1)\n",
    "\n",
    "    def call(self, inputs):\n",
    "        user_vector = self.user_embedding(inputs[:, 0])\n",
    "        user_bias = self.user_bias(inputs[:, 0])\n",
    "        movie_vector = self.movie_embedding(inputs[:, 1])\n",
    "        movie_bias = self.movie_bias(inputs[:, 1])\n",
    "        dot_user_movie = tf.tensordot(user_vector, movie_vector, 2)\n",
    "        # Add all the components (including bias)\n",
    "        x = dot_user_movie + user_bias + movie_bias\n",
    "        # The sigmoid activation forces the rating to between 0 and 1\n",
    "        return tf.nn.sigmoid(x)\n",
    "\n",
    "\n",
    "model = RecommenderNet(num_users, num_movies, EMBEDDING_SIZE)\n",
    "model.compile(\n",
    "    loss=tf.keras.losses.BinaryCrossentropy(), optimizer=keras.optimizers.Adam(learning_rate=0.001)\n",
    ")"
   ]
  },
  {
   "cell_type": "markdown",
   "id": "15ba5a68",
   "metadata": {},
   "source": [
    "##### Binary Cross Entropy is the negative average of the log of corrected predicted probabilities."
   ]
  },
  {
   "cell_type": "code",
   "execution_count": 89,
   "id": "e0e0ed76",
   "metadata": {},
   "outputs": [],
   "source": [
    "random.seed(42)"
   ]
  },
  {
   "cell_type": "code",
   "execution_count": 90,
   "id": "ab1dc2d1",
   "metadata": {},
   "outputs": [],
   "source": [
    "df = data.groupby([\"User_ID\",\"Prod_ID\"]).agg({\"rating\" : \"first\"}).reset_index()\n",
    "x = df.loc[:,[\"User_ID\", \"Prod_ID\"]].values\n",
    "# Normalize the targets between 0 and 1. Makes it easy to train.\n",
    "y = df[\"rating\"].apply(lambda x: (x - min_rating) / (max_rating - min_rating)).values\n",
    "# Assuming training on 90% of the data and validating on 10%.\n",
    "train_indices = int(0.9 * df.shape[0])\n",
    "x_train, x_test, y_train, y_test = (\n",
    "    x[:train_indices],\n",
    "    x[train_indices:],\n",
    "    y[:train_indices],\n",
    "    y[train_indices:],\n",
    ")"
   ]
  },
  {
   "cell_type": "code",
   "execution_count": 91,
   "id": "7536f1ba",
   "metadata": {},
   "outputs": [],
   "source": [
    "x_train = szukebb_data_train.drop_duplicates().loc[:,[\"User_ID\",\"Prod_ID\"]].values\n",
    "x_test = szukebb_data_test.drop_duplicates().loc[:,[\"User_ID\",\"Prod_ID\"]].values\n",
    "y_train = szukebb_data_train.drop_duplicates()[\"rating\"].apply(lambda x: (x-min_rating) / (max_rating-min_rating)).values\n",
    "y_test = szukebb_data_test.drop_duplicates()[\"rating\"].apply(lambda x: (x-min_rating) / (max_rating-min_rating)).values"
   ]
  },
  {
   "cell_type": "code",
   "execution_count": 92,
   "id": "7960802e",
   "metadata": {},
   "outputs": [
    {
     "name": "stdout",
     "output_type": "stream",
     "text": [
      "(1600, 2) (1600, 2) (1600,) (1600,)\n"
     ]
    }
   ],
   "source": [
    "print(x_train.shape, x_test.shape,y_train.shape, y_test.shape)"
   ]
  },
  {
   "cell_type": "code",
   "execution_count": 93,
   "id": "0a24ea99",
   "metadata": {},
   "outputs": [
    {
     "data": {
      "text/plain": [
       "array([ 1,  3,  4,  5,  6,  7,  8,  9, 10, 11, 12, 13, 15, 16, 17, 18, 19,\n",
       "       20, 21, 23, 25, 26, 28, 29, 30, 31, 32, 33, 34, 36, 38, 39, 41, 47,\n",
       "       49, 51, 56, 60, 65, 72], dtype=int64)"
      ]
     },
     "execution_count": 93,
     "metadata": {},
     "output_type": "execute_result"
    }
   ],
   "source": [
    "szukebb_data_train[\"User_ID\"].sort_values().unique()"
   ]
  },
  {
   "cell_type": "code",
   "execution_count": 94,
   "id": "8b388afd",
   "metadata": {},
   "outputs": [
    {
     "data": {
      "text/plain": [
       "array([ 1,  3,  4,  5,  6,  7,  8,  9, 10, 11, 12, 13, 15, 16, 17, 18, 19,\n",
       "       20, 21, 23, 25, 26, 28, 29, 30, 31, 32, 33, 34, 36, 38, 39, 41, 47,\n",
       "       49, 51, 56, 60, 65, 72], dtype=int64)"
      ]
     },
     "execution_count": 94,
     "metadata": {},
     "output_type": "execute_result"
    }
   ],
   "source": [
    "szukebb_data_test[\"User_ID\"].sort_values().unique()"
   ]
  },
  {
   "cell_type": "code",
   "execution_count": 95,
   "id": "d996b476",
   "metadata": {},
   "outputs": [
    {
     "name": "stdout",
     "output_type": "stream",
     "text": [
      "Epoch 1/5\n",
      "52/52 [==============================] - 2s 11ms/step - loss: 0.7234 - val_loss: 0.5646\n",
      "Epoch 2/5\n",
      "52/52 [==============================] - 0s 5ms/step - loss: 0.5767 - val_loss: 0.4651\n",
      "Epoch 3/5\n",
      "52/52 [==============================] - 0s 5ms/step - loss: 0.4442 - val_loss: 0.4038\n",
      "Epoch 4/5\n",
      "52/52 [==============================] - 0s 5ms/step - loss: 0.3996 - val_loss: 0.3692\n",
      "Epoch 5/5\n",
      "52/52 [==============================] - 0s 5ms/step - loss: 0.3643 - val_loss: 0.3501\n"
     ]
    }
   ],
   "source": [
    "history = model.fit(\n",
    "    x=x_train,\n",
    "    y=y_train,\n",
    "    batch_size=31,\n",
    "    epochs=5,\n",
    "    verbose=1,\n",
    "    validation_data=(x_test, y_test),\n",
    ")"
   ]
  },
  {
   "cell_type": "code",
   "execution_count": 96,
   "id": "7735fec6",
   "metadata": {},
   "outputs": [
    {
     "data": {
      "image/png": "[encoded data removed]",
      "text/plain": [
       "<Figure size 432x288 with 1 Axes>"
      ]
     },
     "metadata": {
      "needs_background": "light"
     },
     "output_type": "display_data"
    }
   ],
   "source": [
    "plt.plot(history.history[\"loss\"])\n",
    "plt.plot(history.history[\"val_loss\"])\n",
    "plt.title(\"model loss\")\n",
    "plt.ylabel(\"loss\")\n",
    "plt.xlabel(\"epoch\")\n",
    "plt.legend([\"train\", \"test\"], loc=\"upper left\")\n",
    "plt.show()"
   ]
  },
  {
   "cell_type": "code",
   "execution_count": 97,
   "id": "f7385423",
   "metadata": {},
   "outputs": [],
   "source": [
    "used_prod = (\n",
    "    data.loc[lambda _df: _df[\"rating\"] != 0, :]\n",
    "    .groupby([\"User_ID\", \"Prod_ID\"])\n",
    "    .agg({\"rating\": \"first\"})\n",
    "    .reset_index()\n",
    ")"
   ]
  },
  {
   "cell_type": "code",
   "execution_count": 98,
   "id": "8e86821a",
   "metadata": {},
   "outputs": [],
   "source": [
    "all_prods_by_user = (\n",
    "    data.groupby([\"User_ID\", \"Prod_ID\"]).agg({\"rating\": \"first\"}).reset_index()\n",
    ")"
   ]
  },
  {
   "cell_type": "code",
   "execution_count": 99,
   "id": "e668e863",
   "metadata": {},
   "outputs": [],
   "source": [
    "def Id_for_name(name):\n",
    "    return int(név_id.loc[lambda _df: _df[\"Név\"] == name][\"User_ID\"])"
   ]
  },
  {
   "cell_type": "code",
   "execution_count": 114,
   "id": "839dbc48",
   "metadata": {},
   "outputs": [],
   "source": [
    "# Let us get a user and see the top recommendations.\n",
    "def recommend(name):\n",
    "    \n",
    "    user_id = Id_for_name(name)\n",
    "    products_used_by_user = used_prod[used_prod.User_ID == user_id]\n",
    "    products_not_used_by_user = all_prods_by_user[\n",
    "        ~all_prods_by_user[\"Prod_ID\"].isin(products_used_by_user.Prod_ID.values)\n",
    "    ][\"Prod_ID\"]\n",
    "    products_not_used_by_user = list(\n",
    "        set(products_not_used_by_user).intersection(set(movie2movie_encoded.keys()))\n",
    "    )\n",
    "    products_not_used_by_user = [\n",
    "        [movie2movie_encoded.get(x)] for x in products_not_used_by_user\n",
    "    ]\n",
    "    user_encoder = user2user_encoded.get(user_id)\n",
    "    user_movie_array = np.hstack(\n",
    "        ([[user_encoder]] * len(products_not_used_by_user), products_not_used_by_user)\n",
    "    )\n",
    "    ratings = model.predict(user_movie_array).flatten()\n",
    "    top_ratings_indices = ratings.argsort()[-10:][::-1]\n",
    "    recommended_movie_ids = [\n",
    "        movie_encoded2movie.get(products_not_used_by_user[x][0])\n",
    "        for x in top_ratings_indices\n",
    "    ]\n",
    "\n",
    "    print(\"Showing recommendations for user: {}\".format(név_id.loc[lambda _df: _df[\"User_ID\"] == user_id][\"Név\"].values))\n",
    "    print(\"====\" * 9)\n",
    "    print(\"Products with high ratings from user\")\n",
    "    print(\"----\" * 8)\n",
    "    top_movies_user = (\n",
    "        products_used_by_user.sort_values(by=\"rating\", ascending=False)\n",
    "        .head(5)\n",
    "        .Prod_ID.values\n",
    "    )\n",
    "    movie_df_rows = (\n",
    "        all_prods_by_user[all_prods_by_user[\"Prod_ID\"].isin(top_movies_user)]\n",
    "        .drop_duplicates()\n",
    "        .loc[lambda _df: _df[\"User_ID\"] == user_id]\n",
    "    )\n",
    "    for row in movie_df_rows.itertuples():\n",
    "        print(\n",
    "            row.Prod_ID,\n",
    "            \":\",\n",
    "            termek_id.loc[lambda _df: _df[\"Prod_ID\"] == row.Prod_ID][\"termek\"].values,\n",
    "        )\n",
    "        # print(row.title, \":\", row.genres)\n",
    "\n",
    "    print(\"----\" * 8)\n",
    "    print(\"Top 10 product recommendations\")\n",
    "    print(\"----\" * 8)\n",
    "    recommended_movies = all_prods_by_user[\n",
    "        all_prods_by_user[\"Prod_ID\"].isin(recommended_movie_ids)\n",
    "    ].loc[lambda _df: _df[\"User_ID\"] == user_id,:]\n",
    "    for row in recommended_movies.itertuples():\n",
    "        print(\n",
    "            row.Prod_ID,\n",
    "            \":\",\n",
    "            termek_id.loc[lambda _df: _df[\"Prod_ID\"] == row.Prod_ID][\"termek\"].values,\n",
    "        )"
   ]
  },
  {
   "cell_type": "code",
   "execution_count": 122,
   "id": "37c79f2e",
   "metadata": {
    "scrolled": false
   },
   "outputs": [
    {
     "name": "stdout",
     "output_type": "stream",
     "text": [
      "3/3 [==============================] - 0s 4ms/step\n",
      "Showing recommendations for user: ['Gyenes Márk']\n",
      "====================================\n",
      "Products with high ratings from user\n",
      "--------------------------------\n",
      "3 : ['coca-cola (dl)']\n",
      "14 : ['lays']\n",
      "26 : ['gordons']\n",
      "27 : ['kronenbourg blanc']\n",
      "--------------------------------\n",
      "Top 10 product recommendations\n",
      "--------------------------------\n",
      "69 : ['happy day (dl)']\n",
      "70 : ['borháló irsai']\n",
      "72 : ['casuino rum']\n",
      "73 : ['apenta']\n",
      "74 : ['bounty']\n",
      "75 : ['borháló kékfrankos (dl)']\n",
      "76 : ['borháló olaszrizling (dl)']\n",
      "77 : ['club mate']\n",
      "78 : ['tesco nagy csipsz 130g']\n",
      "79 : ['tesco kis csipsz 77g']\n"
     ]
    }
   ],
   "source": [
    "recommend(\"Gyenes Márk\")"
   ]
  },
  {
   "cell_type": "markdown",
   "id": "bd5eac07",
   "metadata": {},
   "source": []
  },
  {
   "cell_type": "code",
   "execution_count": 104,
   "id": "ce7fa3b7",
   "metadata": {},
   "outputs": [],
   "source": [
    "nevek = data[\"Név\"].unique()"
   ]
  },
  {
   "cell_type": "code",
   "execution_count": 105,
   "id": "2b266a1e",
   "metadata": {},
   "outputs": [
    {
     "data": {
      "application/vnd.jupyter.widget-view+json": {
       "model_id": "75cf9a8c56c9412a80f46d3caa1dec89",
       "version_major": 2,
       "version_minor": 0
      },
      "text/plain": [
       "  0%|          | 0/77 [00:00<?, ?it/s]"
      ]
     },
     "metadata": {},
     "output_type": "display_data"
    },
    {
     "name": "stdout",
     "output_type": "stream",
     "text": [
      "3/3 [==============================] - 0s 4ms/step\n",
      "3/3 [==============================] - 0s 4ms/step\n",
      "3/3 [==============================] - 0s 4ms/step\n",
      "3/3 [==============================] - 0s 3ms/step\n",
      "3/3 [==============================] - 0s 4ms/step\n",
      "3/3 [==============================] - 0s 3ms/step\n",
      "3/3 [==============================] - 0s 3ms/step\n",
      "3/3 [==============================] - 0s 3ms/step\n",
      "3/3 [==============================] - 0s 3ms/step\n",
      "3/3 [==============================] - 0s 3ms/step\n",
      "3/3 [==============================] - 0s 2ms/step\n",
      "3/3 [==============================] - 0s 3ms/step\n",
      "3/3 [==============================] - 0s 3ms/step\n",
      "3/3 [==============================] - 0s 3ms/step\n",
      "3/3 [==============================] - 0s 3ms/step\n",
      "3/3 [==============================] - 0s 3ms/step\n",
      "3/3 [==============================] - 0s 3ms/step\n",
      "3/3 [==============================] - 0s 3ms/step\n",
      "3/3 [==============================] - 0s 3ms/step\n",
      "3/3 [==============================] - 0s 3ms/step\n",
      "3/3 [==============================] - 0s 3ms/step\n",
      "3/3 [==============================] - 0s 3ms/step\n",
      "3/3 [==============================] - 0s 3ms/step\n",
      "3/3 [==============================] - 0s 3ms/step\n",
      "3/3 [==============================] - 0s 3ms/step\n",
      "3/3 [==============================] - 0s 3ms/step\n",
      "3/3 [==============================] - 0s 3ms/step\n",
      "3/3 [==============================] - 0s 3ms/step\n",
      "3/3 [==============================] - 0s 2ms/step\n",
      "3/3 [==============================] - 0s 3ms/step\n",
      "3/3 [==============================] - 0s 3ms/step\n",
      "3/3 [==============================] - 0s 3ms/step\n",
      "3/3 [==============================] - 0s 4ms/step\n",
      "3/3 [==============================] - 0s 2ms/step\n",
      "3/3 [==============================] - 0s 3ms/step\n",
      "3/3 [==============================] - 0s 3ms/step\n",
      "3/3 [==============================] - 0s 2ms/step\n",
      "3/3 [==============================] - 0s 3ms/step\n",
      "3/3 [==============================] - 0s 3ms/step\n",
      "3/3 [==============================] - 0s 3ms/step\n",
      "3/3 [==============================] - 0s 3ms/step\n",
      "3/3 [==============================] - 0s 3ms/step\n",
      "3/3 [==============================] - 0s 3ms/step\n",
      "3/3 [==============================] - 0s 2ms/step\n",
      "3/3 [==============================] - 0s 3ms/step\n",
      "3/3 [==============================] - 0s 3ms/step\n",
      "3/3 [==============================] - 0s 3ms/step\n",
      "3/3 [==============================] - 0s 3ms/step\n",
      "3/3 [==============================] - 0s 3ms/step\n",
      "3/3 [==============================] - 0s 2ms/step\n",
      "3/3 [==============================] - 0s 3ms/step\n",
      "3/3 [==============================] - 0s 3ms/step\n",
      "3/3 [==============================] - 0s 3ms/step\n",
      "3/3 [==============================] - 0s 3ms/step\n",
      "3/3 [==============================] - 0s 2ms/step\n",
      "3/3 [==============================] - 0s 3ms/step\n",
      "3/3 [==============================] - 0s 3ms/step\n",
      "3/3 [==============================] - 0s 3ms/step\n",
      "3/3 [==============================] - 0s 3ms/step\n",
      "3/3 [==============================] - 0s 3ms/step\n",
      "3/3 [==============================] - 0s 3ms/step\n",
      "3/3 [==============================] - 0s 3ms/step\n",
      "3/3 [==============================] - 0s 3ms/step\n",
      "3/3 [==============================] - 0s 2ms/step\n",
      "3/3 [==============================] - 0s 3ms/step\n",
      "3/3 [==============================] - 0s 2ms/step\n",
      "3/3 [==============================] - 0s 2ms/step\n",
      "3/3 [==============================] - 0s 2ms/step\n",
      "3/3 [==============================] - 0s 2ms/step\n",
      "3/3 [==============================] - 0s 2ms/step\n",
      "3/3 [==============================] - 0s 3ms/step\n",
      "3/3 [==============================] - 0s 2ms/step\n",
      "3/3 [==============================] - 0s 2ms/step\n",
      "3/3 [==============================] - 0s 3ms/step\n",
      "3/3 [==============================] - 0s 3ms/step\n",
      "3/3 [==============================] - 0s 2ms/step\n",
      "3/3 [==============================] - 0s 2ms/step\n"
     ]
    }
   ],
   "source": [
    "ratings_dfs = []\n",
    "for i in tqdm(nevek):\n",
    "    user_id = Id_for_name(i)\n",
    "    products_used_by_user = used_prod[used_prod.User_ID == user_id]\n",
    "    products_not_used_by_user = all_prods_by_user[\n",
    "        ~all_prods_by_user[\"Prod_ID\"].isin(products_used_by_user.Prod_ID.values)\n",
    "    ][\"Prod_ID\"]\n",
    "    products_not_used_by_user = list(\n",
    "        set(products_not_used_by_user).intersection(set(movie2movie_encoded.keys()))\n",
    "    )\n",
    "    products_not_used_by_user = [\n",
    "        [movie2movie_encoded.get(x)] for x in products_not_used_by_user\n",
    "    ]\n",
    "    user_encoder = user2user_encoded.get(user_id)\n",
    "    user_movie_array = np.hstack(\n",
    "        ([[user_encoder]] * len(products_not_used_by_user), products_not_used_by_user)\n",
    "    )\n",
    "    ratings = model.predict(user_movie_array)\n",
    "\n",
    "    ratings_dfs.append(\n",
    "        pd.concat(\n",
    "            [\n",
    "                pd.DataFrame(user_movie_array).rename(\n",
    "                    columns={0: \"User_ID\", 1: \"Prod_ID\"}\n",
    "                ),\n",
    "                pd.DataFrame(ratings).rename(columns={0: \"rate_pred\"}),\n",
    "            ],\n",
    "            axis=1,\n",
    "        )\n",
    "    )"
   ]
  },
  {
   "cell_type": "code",
   "execution_count": 106,
   "id": "ed7d2e5e",
   "metadata": {},
   "outputs": [],
   "source": [
    "ratings_df = pd.concat(ratings_dfs)"
   ]
  },
  {
   "cell_type": "code",
   "execution_count": 107,
   "id": "4d7213c4",
   "metadata": {},
   "outputs": [],
   "source": [
    "ratings_df[\"User_ID\"] = ratings_df[\"User_ID\"]+1\n",
    "ratings_df[\"Prod_ID\"] = ratings_df[\"Prod_ID\"]+1"
   ]
  },
  {
   "cell_type": "code",
   "execution_count": 108,
   "id": "9de8a226",
   "metadata": {},
   "outputs": [],
   "source": [
    "top_termek_2 = (\n",
    "    data.loc[lambda _df: _df[\"Név\"].isin(top_user),:].groupby(\"termek\")\n",
    "    .agg({\"Mennyiség\": \"sum\"})\n",
    "    .reset_index()\n",
    "    .sort_values(by=\"Mennyiség\", ascending=False)\n",
    "    .head(5)[\"termek\"]\n",
    "    .to_list()\n",
    ")"
   ]
  },
  {
   "cell_type": "code",
   "execution_count": 112,
   "id": "af74b4a5",
   "metadata": {},
   "outputs": [
    {
     "data": {
      "text/html": [
       "<div>\n",
       "<style scoped>\n",
       "    .dataframe tbody tr th:only-of-type {\n",
       "        vertical-align: middle;\n",
       "    }\n",
       "\n",
       "    .dataframe tbody tr th {\n",
       "        vertical-align: top;\n",
       "    }\n",
       "\n",
       "    .dataframe thead th {\n",
       "        text-align: right;\n",
       "    }\n",
       "</style>\n",
       "<table border=\"1\" class=\"dataframe\">\n",
       "  <thead>\n",
       "    <tr style=\"text-align: right;\">\n",
       "      <th></th>\n",
       "      <th>date</th>\n",
       "      <th>Név</th>\n",
       "      <th>termek</th>\n",
       "      <th>Mennyiség</th>\n",
       "      <th>event_count</th>\n",
       "      <th>event1</th>\n",
       "      <th>event2</th>\n",
       "      <th>event3</th>\n",
       "      <th>event4</th>\n",
       "      <th>weekday</th>\n",
       "      <th>User_ID</th>\n",
       "      <th>Prod_ID</th>\n",
       "      <th>Teljes_fogy</th>\n",
       "      <th>rating</th>\n",
       "      <th>user</th>\n",
       "      <th>product</th>\n",
       "      <th>rate_pred</th>\n",
       "    </tr>\n",
       "  </thead>\n",
       "  <tbody>\n",
       "    <tr>\n",
       "      <th>0</th>\n",
       "      <td>2021-07-16</td>\n",
       "      <td>Barát Andor Kornél</td>\n",
       "      <td>uncsi</td>\n",
       "      <td>3.00</td>\n",
       "      <td>1.00</td>\n",
       "      <td>Mardekár buli</td>\n",
       "      <td>Nincs esemény</td>\n",
       "      <td>Nincs esemény</td>\n",
       "      <td>Nincs esemény</td>\n",
       "      <td>4</td>\n",
       "      <td>1</td>\n",
       "      <td>2</td>\n",
       "      <td>739.14</td>\n",
       "      <td>0.00</td>\n",
       "      <td>0</td>\n",
       "      <td>1</td>\n",
       "      <td>0.62</td>\n",
       "    </tr>\n",
       "    <tr>\n",
       "      <th>1</th>\n",
       "      <td>2021-07-16</td>\n",
       "      <td>Herbák Mihály</td>\n",
       "      <td>uncsi</td>\n",
       "      <td>2.00</td>\n",
       "      <td>1.00</td>\n",
       "      <td>Mardekár buli</td>\n",
       "      <td>Nincs esemény</td>\n",
       "      <td>Nincs esemény</td>\n",
       "      <td>Nincs esemény</td>\n",
       "      <td>4</td>\n",
       "      <td>3</td>\n",
       "      <td>2</td>\n",
       "      <td>721.12</td>\n",
       "      <td>0.00</td>\n",
       "      <td>2</td>\n",
       "      <td>1</td>\n",
       "      <td>0.36</td>\n",
       "    </tr>\n",
       "    <tr>\n",
       "      <th>2</th>\n",
       "      <td>2021-07-16</td>\n",
       "      <td>Magyar Gergely</td>\n",
       "      <td>coca-cola (dl)</td>\n",
       "      <td>2.00</td>\n",
       "      <td>1.00</td>\n",
       "      <td>Mardekár buli</td>\n",
       "      <td>Nincs esemény</td>\n",
       "      <td>Nincs esemény</td>\n",
       "      <td>Nincs esemény</td>\n",
       "      <td>4</td>\n",
       "      <td>6</td>\n",
       "      <td>3</td>\n",
       "      <td>844.53</td>\n",
       "      <td>2.00</td>\n",
       "      <td>5</td>\n",
       "      <td>2</td>\n",
       "      <td>NaN</td>\n",
       "    </tr>\n",
       "    <tr>\n",
       "      <th>3</th>\n",
       "      <td>2021-07-16</td>\n",
       "      <td>Magyar Gergely</td>\n",
       "      <td>uncsi</td>\n",
       "      <td>6.00</td>\n",
       "      <td>1.00</td>\n",
       "      <td>Mardekár buli</td>\n",
       "      <td>Nincs esemény</td>\n",
       "      <td>Nincs esemény</td>\n",
       "      <td>Nincs esemény</td>\n",
       "      <td>4</td>\n",
       "      <td>6</td>\n",
       "      <td>2</td>\n",
       "      <td>844.53</td>\n",
       "      <td>2.00</td>\n",
       "      <td>5</td>\n",
       "      <td>1</td>\n",
       "      <td>NaN</td>\n",
       "    </tr>\n",
       "    <tr>\n",
       "      <th>4</th>\n",
       "      <td>2021-07-16</td>\n",
       "      <td>Pózner Vanda</td>\n",
       "      <td>coca-cola (dl)</td>\n",
       "      <td>2.00</td>\n",
       "      <td>1.00</td>\n",
       "      <td>Mardekár buli</td>\n",
       "      <td>Nincs esemény</td>\n",
       "      <td>Nincs esemény</td>\n",
       "      <td>Nincs esemény</td>\n",
       "      <td>4</td>\n",
       "      <td>10</td>\n",
       "      <td>3</td>\n",
       "      <td>889.45</td>\n",
       "      <td>3.00</td>\n",
       "      <td>9</td>\n",
       "      <td>2</td>\n",
       "      <td>NaN</td>\n",
       "    </tr>\n",
       "  </tbody>\n",
       "</table>\n",
       "</div>"
      ],
      "text/plain": [
       "        date                 Név          termek  Mennyiség  event_count  \\\n",
       "0 2021-07-16  Barát Andor Kornél           uncsi       3.00         1.00   \n",
       "1 2021-07-16       Herbák Mihály           uncsi       2.00         1.00   \n",
       "2 2021-07-16      Magyar Gergely  coca-cola (dl)       2.00         1.00   \n",
       "3 2021-07-16      Magyar Gergely           uncsi       6.00         1.00   \n",
       "4 2021-07-16        Pózner Vanda  coca-cola (dl)       2.00         1.00   \n",
       "\n",
       "          event1         event2         event3         event4  weekday  \\\n",
       "0  Mardekár buli  Nincs esemény  Nincs esemény  Nincs esemény        4   \n",
       "1  Mardekár buli  Nincs esemény  Nincs esemény  Nincs esemény        4   \n",
       "2  Mardekár buli  Nincs esemény  Nincs esemény  Nincs esemény        4   \n",
       "3  Mardekár buli  Nincs esemény  Nincs esemény  Nincs esemény        4   \n",
       "4  Mardekár buli  Nincs esemény  Nincs esemény  Nincs esemény        4   \n",
       "\n",
       "   User_ID  Prod_ID  Teljes_fogy  rating  user  product  rate_pred  \n",
       "0        1        2       739.14    0.00     0        1       0.62  \n",
       "1        3        2       721.12    0.00     2        1       0.36  \n",
       "2        6        3       844.53    2.00     5        2        NaN  \n",
       "3        6        2       844.53    2.00     5        1        NaN  \n",
       "4       10        3       889.45    3.00     9        2        NaN  "
      ]
     },
     "execution_count": 112,
     "metadata": {},
     "output_type": "execute_result"
    }
   ],
   "source": [
    "data.loc[lambda _df: _df[\"Név\"].isin(top_user)].loc[lambda _df: _df[\"termek\"].isin(top_termek_2), :].merge(\n",
    "    ratings_df, on=[\"User_ID\", \"Prod_ID\"], how=\"left\"\n",
    ").drop_duplicates().head()"
   ]
  },
  {
   "cell_type": "code",
   "execution_count": 111,
   "id": "858d2530",
   "metadata": {
    "scrolled": true
   },
   "outputs": [
    {
     "data": {
      "text/plain": [
       "10"
      ]
     },
     "execution_count": 111,
     "metadata": {},
     "output_type": "execute_result"
    }
   ],
   "source": [
    "data.loc[lambda _df: _df[\"termek\"].isin(top_termek), :].loc[lambda _df: _df[\"Név\"].isin(top_user)].merge(\n",
    "    ratings_df, on=[\"User_ID\", \"Prod_ID\"], how=\"left\"\n",
    ").drop_duplicates()[\"Név\"].nunique()"
   ]
  },
  {
   "cell_type": "code",
   "execution_count": 109,
   "id": "960fc5a1",
   "metadata": {},
   "outputs": [],
   "source": [
    "data.loc[lambda _df: _df[\"Név\"].isin(top_user)].loc[lambda _df: _df[\"termek\"].isin(top_termek_2), :].merge(\n",
    "    ratings_df, on=[\"User_ID\", \"Prod_ID\"], how=\"left\"\n",
    ").drop_duplicates().to_parquet(\"mldata_ratings_top20prod.parquet\")"
   ]
  }
 ],
 "metadata": {
  "kernelspec": {
   "display_name": "Python 3 (ipykernel)",
   "language": "python",
   "name": "python3"
  },
  "language_info": {
   "codemirror_mode": {
    "name": "ipython",
    "version": 3
   },
   "file_extension": ".py",
   "mimetype": "text/x-python",
   "name": "python",
   "nbconvert_exporter": "python",
   "pygments_lexer": "ipython3",
   "version": "3.10.4"
  }
 },
 "nbformat": 4,
 "nbformat_minor": 5
}
